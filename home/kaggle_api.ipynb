{
 "cells": [
  {
   "cell_type": "code",
   "execution_count": 6,
   "metadata": {
    "collapsed": true
   },
   "outputs": [
    {
     "name": "stdout",
     "output_type": "stream",
     "text": [
      "Requirement already satisfied: kaggle in /usr/local/lib/python3.5/dist-packages (1.5.3)\n",
      "Requirement already satisfied: python-dateutil in /usr/local/lib/python3.5/dist-packages (from kaggle) (2.8.0)\n",
      "Requirement already satisfied: certifi in /usr/local/lib/python3.5/dist-packages (from kaggle) (2019.3.9)\n",
      "Requirement already satisfied: tqdm in /usr/local/lib/python3.5/dist-packages (from kaggle) (4.31.1)\n",
      "Requirement already satisfied: urllib3<1.25,>=1.21.1 in /usr/local/lib/python3.5/dist-packages (from kaggle) (1.24.1)\n",
      "Requirement already satisfied: six>=1.10 in /usr/local/lib/python3.5/dist-packages (from kaggle) (1.12.0)\n",
      "Requirement already satisfied: python-slugify in /usr/local/lib/python3.5/dist-packages (from kaggle) (3.0.2)\n",
      "Requirement already satisfied: requests in /usr/local/lib/python3.5/dist-packages (from kaggle) (2.21.0)\n",
      "Requirement already satisfied: text-unidecode==1.2 in /usr/local/lib/python3.5/dist-packages (from python-slugify->kaggle) (1.2)\n",
      "Requirement already satisfied: idna<2.9,>=2.5 in /usr/local/lib/python3.5/dist-packages (from requests->kaggle) (2.8)\n",
      "Requirement already satisfied: chardet<3.1.0,>=3.0.2 in /usr/local/lib/python3.5/dist-packages (from requests->kaggle) (3.0.4)\n"
     ]
    }
   ],
   "source": [
    "!pip install kaggle"
   ]
  },
  {
   "cell_type": "code",
   "execution_count": 5,
   "metadata": {},
   "outputs": [
    {
     "name": "stdout",
     "output_type": "stream",
     "text": [
      "Downloading train.csv to /tf/home/data\n",
      "100%|██████████████████████████████████████| 73.2M/73.2M [00:06<00:00, 11.8MB/s]\n",
      "\n",
      "Downloading test.csv to /tf/home/data\n",
      " 98%|█████████████████████████████████████▍| 48.0M/48.8M [00:04<00:00, 11.5MB/s]\n",
      "100%|██████████████████████████████████████| 48.8M/48.8M [00:04<00:00, 11.3MB/s]\n",
      "Downloading sample_submission.csv to /tf/home/data\n",
      "  0%|                                                | 0.00/235k [00:00<?, ?B/s]\n",
      "100%|████████████████████████████████████████| 235k/235k [00:00<00:00, 13.3MB/s]\n"
     ]
    }
   ],
   "source": [
    "import os\n",
    "os.environ['KAGGLE_USERNAME'] = \"tudojen\"\n",
    "os.environ['KAGGLE_KEY'] = \"612e0c32b3ced6af45eb0b4d18838db2\"\n",
    "!kaggle competitions download -c digit-recognizer\n",
    "\n"
   ]
  }
 ],
 "metadata": {
  "kernelspec": {
   "display_name": "Python 3",
   "language": "python",
   "name": "python3"
  },
  "language_info": {
   "codemirror_mode": {
    "name": "ipython",
    "version": 3
   },
   "file_extension": ".py",
   "mimetype": "text/x-python",
   "name": "python",
   "nbconvert_exporter": "python",
   "pygments_lexer": "ipython3",
   "version": "3.5.2"
  }
 },
 "nbformat": 4,
 "nbformat_minor": 2
}
